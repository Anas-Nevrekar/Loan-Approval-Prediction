{
 "cells": [
  {
   "cell_type": "code",
   "execution_count": 1,
   "id": "edc60ad5-ac1b-4635-930a-f1f204f57d7c",
   "metadata": {},
   "outputs": [],
   "source": [
    "import pandas as pd\n",
    "import numpy as np\n",
    "import matplotlib.pyplot as plt\n",
    "import seaborn as sns"
   ]
  },
  {
   "cell_type": "markdown",
   "id": "961ed4ef-15ce-424d-9f96-1195af44f4e9",
   "metadata": {},
   "source": [
    "Loading the dataset"
   ]
  },
  {
   "cell_type": "code",
   "execution_count": 2,
   "id": "e9dbabc7-307e-4197-9c33-821e99481c7e",
   "metadata": {},
   "outputs": [],
   "source": [
    "dataset = pd.read_csv(\"loan_approval_dataset.csv\")"
   ]
  },
  {
   "cell_type": "code",
   "execution_count": 3,
   "id": "d8da9fed-5e8c-45af-aae2-6541ecc6a902",
   "metadata": {},
   "outputs": [],
   "source": [
    "df = dataset.copy()"
   ]
  },
  {
   "cell_type": "code",
   "execution_count": 4,
   "id": "f13c510e-77d1-467a-9d78-bd72f55f32b8",
   "metadata": {},
   "outputs": [
    {
     "data": {
      "text/html": [
       "<div>\n",
       "<style scoped>\n",
       "    .dataframe tbody tr th:only-of-type {\n",
       "        vertical-align: middle;\n",
       "    }\n",
       "\n",
       "    .dataframe tbody tr th {\n",
       "        vertical-align: top;\n",
       "    }\n",
       "\n",
       "    .dataframe thead th {\n",
       "        text-align: right;\n",
       "    }\n",
       "</style>\n",
       "<table border=\"1\" class=\"dataframe\">\n",
       "  <thead>\n",
       "    <tr style=\"text-align: right;\">\n",
       "      <th></th>\n",
       "      <th>loan_id</th>\n",
       "      <th>no_of_dependents</th>\n",
       "      <th>education</th>\n",
       "      <th>self_employed</th>\n",
       "      <th>income_annum</th>\n",
       "      <th>loan_amount</th>\n",
       "      <th>loan_term</th>\n",
       "      <th>cibil_score</th>\n",
       "      <th>residential_assets_value</th>\n",
       "      <th>commercial_assets_value</th>\n",
       "      <th>luxury_assets_value</th>\n",
       "      <th>bank_asset_value</th>\n",
       "      <th>loan_status</th>\n",
       "    </tr>\n",
       "  </thead>\n",
       "  <tbody>\n",
       "    <tr>\n",
       "      <th>0</th>\n",
       "      <td>1</td>\n",
       "      <td>2</td>\n",
       "      <td>Graduate</td>\n",
       "      <td>No</td>\n",
       "      <td>9600000</td>\n",
       "      <td>29900000</td>\n",
       "      <td>12</td>\n",
       "      <td>778</td>\n",
       "      <td>2400000</td>\n",
       "      <td>17600000</td>\n",
       "      <td>22700000</td>\n",
       "      <td>8000000</td>\n",
       "      <td>Approved</td>\n",
       "    </tr>\n",
       "    <tr>\n",
       "      <th>1</th>\n",
       "      <td>2</td>\n",
       "      <td>0</td>\n",
       "      <td>Not Graduate</td>\n",
       "      <td>Yes</td>\n",
       "      <td>4100000</td>\n",
       "      <td>12200000</td>\n",
       "      <td>8</td>\n",
       "      <td>417</td>\n",
       "      <td>2700000</td>\n",
       "      <td>2200000</td>\n",
       "      <td>8800000</td>\n",
       "      <td>3300000</td>\n",
       "      <td>Rejected</td>\n",
       "    </tr>\n",
       "    <tr>\n",
       "      <th>2</th>\n",
       "      <td>3</td>\n",
       "      <td>3</td>\n",
       "      <td>Graduate</td>\n",
       "      <td>No</td>\n",
       "      <td>9100000</td>\n",
       "      <td>29700000</td>\n",
       "      <td>20</td>\n",
       "      <td>506</td>\n",
       "      <td>7100000</td>\n",
       "      <td>4500000</td>\n",
       "      <td>33300000</td>\n",
       "      <td>12800000</td>\n",
       "      <td>Rejected</td>\n",
       "    </tr>\n",
       "    <tr>\n",
       "      <th>3</th>\n",
       "      <td>4</td>\n",
       "      <td>3</td>\n",
       "      <td>Graduate</td>\n",
       "      <td>No</td>\n",
       "      <td>8200000</td>\n",
       "      <td>30700000</td>\n",
       "      <td>8</td>\n",
       "      <td>467</td>\n",
       "      <td>18200000</td>\n",
       "      <td>3300000</td>\n",
       "      <td>23300000</td>\n",
       "      <td>7900000</td>\n",
       "      <td>Rejected</td>\n",
       "    </tr>\n",
       "    <tr>\n",
       "      <th>4</th>\n",
       "      <td>5</td>\n",
       "      <td>5</td>\n",
       "      <td>Not Graduate</td>\n",
       "      <td>Yes</td>\n",
       "      <td>9800000</td>\n",
       "      <td>24200000</td>\n",
       "      <td>20</td>\n",
       "      <td>382</td>\n",
       "      <td>12400000</td>\n",
       "      <td>8200000</td>\n",
       "      <td>29400000</td>\n",
       "      <td>5000000</td>\n",
       "      <td>Rejected</td>\n",
       "    </tr>\n",
       "  </tbody>\n",
       "</table>\n",
       "</div>"
      ],
      "text/plain": [
       "   loan_id   no_of_dependents      education  self_employed   income_annum  \\\n",
       "0        1                  2       Graduate             No        9600000   \n",
       "1        2                  0   Not Graduate            Yes        4100000   \n",
       "2        3                  3       Graduate             No        9100000   \n",
       "3        4                  3       Graduate             No        8200000   \n",
       "4        5                  5   Not Graduate            Yes        9800000   \n",
       "\n",
       "    loan_amount   loan_term   cibil_score   residential_assets_value  \\\n",
       "0      29900000          12           778                    2400000   \n",
       "1      12200000           8           417                    2700000   \n",
       "2      29700000          20           506                    7100000   \n",
       "3      30700000           8           467                   18200000   \n",
       "4      24200000          20           382                   12400000   \n",
       "\n",
       "    commercial_assets_value   luxury_assets_value   bank_asset_value  \\\n",
       "0                  17600000              22700000            8000000   \n",
       "1                   2200000               8800000            3300000   \n",
       "2                   4500000              33300000           12800000   \n",
       "3                   3300000              23300000            7900000   \n",
       "4                   8200000              29400000            5000000   \n",
       "\n",
       "   loan_status  \n",
       "0     Approved  \n",
       "1     Rejected  \n",
       "2     Rejected  \n",
       "3     Rejected  \n",
       "4     Rejected  "
      ]
     },
     "execution_count": 4,
     "metadata": {},
     "output_type": "execute_result"
    }
   ],
   "source": [
    "df.head()"
   ]
  },
  {
   "cell_type": "code",
   "execution_count": 5,
   "id": "bbf5b8a1-3a88-44f4-a5f6-745aa89a9cfe",
   "metadata": {},
   "outputs": [
    {
     "data": {
      "text/plain": [
       "(4269, 13)"
      ]
     },
     "execution_count": 5,
     "metadata": {},
     "output_type": "execute_result"
    }
   ],
   "source": [
    "#Number of rows & columns\n",
    "df.shape"
   ]
  },
  {
   "cell_type": "markdown",
   "id": "8bc62f28-ec52-44ac-b348-84d568fcc5a5",
   "metadata": {},
   "source": [
    "Total rows: 4269 <br>\n",
    "Total columns: 13"
   ]
  },
  {
   "cell_type": "markdown",
   "id": "c51ed94d-764b-4f29-b79e-8666f282cba1",
   "metadata": {},
   "source": [
    "Let's check the detail of the dataset"
   ]
  },
  {
   "cell_type": "code",
   "execution_count": 6,
   "id": "a339e2b2-f3d1-4074-aa6b-956a5982fe81",
   "metadata": {},
   "outputs": [
    {
     "name": "stdout",
     "output_type": "stream",
     "text": [
      "<class 'pandas.core.frame.DataFrame'>\n",
      "RangeIndex: 4269 entries, 0 to 4268\n",
      "Data columns (total 13 columns):\n",
      " #   Column                     Non-Null Count  Dtype \n",
      "---  ------                     --------------  ----- \n",
      " 0   loan_id                    4269 non-null   int64 \n",
      " 1    no_of_dependents          4269 non-null   int64 \n",
      " 2    education                 4269 non-null   object\n",
      " 3    self_employed             4269 non-null   object\n",
      " 4    income_annum              4269 non-null   int64 \n",
      " 5    loan_amount               4269 non-null   int64 \n",
      " 6    loan_term                 4269 non-null   int64 \n",
      " 7    cibil_score               4269 non-null   int64 \n",
      " 8    residential_assets_value  4269 non-null   int64 \n",
      " 9    commercial_assets_value   4269 non-null   int64 \n",
      " 10   luxury_assets_value       4269 non-null   int64 \n",
      " 11   bank_asset_value          4269 non-null   int64 \n",
      " 12   loan_status               4269 non-null   object\n",
      "dtypes: int64(10), object(3)\n",
      "memory usage: 433.7+ KB\n"
     ]
    }
   ],
   "source": [
    "df.info()"
   ]
  },
  {
   "cell_type": "code",
   "execution_count": 7,
   "id": "9257c4b6-bd8d-4194-aad4-bb36c20dc0ca",
   "metadata": {},
   "outputs": [
    {
     "data": {
      "text/plain": [
       "loan_id                      0\n",
       " no_of_dependents            0\n",
       " education                   0\n",
       " self_employed               0\n",
       " income_annum                0\n",
       " loan_amount                 0\n",
       " loan_term                   0\n",
       " cibil_score                 0\n",
       " residential_assets_value    0\n",
       " commercial_assets_value     0\n",
       " luxury_assets_value         0\n",
       " bank_asset_value            0\n",
       " loan_status                 0\n",
       "dtype: int64"
      ]
     },
     "execution_count": 7,
     "metadata": {},
     "output_type": "execute_result"
    }
   ],
   "source": [
    "df.isnull().sum()"
   ]
  },
  {
   "cell_type": "code",
   "execution_count": 8,
   "id": "0bb43cfb-4c6d-4e73-b7c8-cfbcd053b002",
   "metadata": {},
   "outputs": [
    {
     "data": {
      "text/plain": [
       "0"
      ]
     },
     "execution_count": 8,
     "metadata": {},
     "output_type": "execute_result"
    }
   ],
   "source": [
    "df.duplicated().sum()"
   ]
  },
  {
   "cell_type": "markdown",
   "id": "a1bf7778-f00c-431e-bf17-5bfe79ce17df",
   "metadata": {},
   "source": [
    "So there are neither null values nor duplicated values in our dataset"
   ]
  },
  {
   "cell_type": "markdown",
   "id": "6eecb0d7-bedc-4802-8383-5a2824bc8642",
   "metadata": {},
   "source": [
    "Now let's explore each features"
   ]
  },
  {
   "cell_type": "markdown",
   "id": "b7d1d475-48f3-4191-b206-13a8d7d500cb",
   "metadata": {},
   "source": [
    "#### no_of_dependents: How many people rely on the applicant for money. It's used to understand how much financial pressure the applicant already has. More dependents might mean more expenses."
   ]
  },
  {
   "cell_type": "code",
   "execution_count": 9,
   "id": "981f361f-74a5-45f6-90c5-5fa4fb312bcb",
   "metadata": {},
   "outputs": [
    {
     "data": {
      "text/plain": [
       "array([2, 0, 3, 5, 4, 1], dtype=int64)"
      ]
     },
     "execution_count": 9,
     "metadata": {},
     "output_type": "execute_result"
    }
   ],
   "source": [
    "df[\" no_of_dependents\"].unique()"
   ]
  },
  {
   "cell_type": "markdown",
   "id": "64bfe618-b960-402f-b3c2-602d574118bd",
   "metadata": {},
   "source": [
    "Let's see distibution of it with respect to target"
   ]
  },
  {
   "cell_type": "code",
   "execution_count": 10,
   "id": "c7362b10-95f6-4018-8827-5355d3da94b8",
   "metadata": {},
   "outputs": [
    {
     "data": {
      "image/png": "[encoded data removed]",
      "text/plain": [
       "<Figure size 640x480 with 1 Axes>"
      ]
     },
     "metadata": {},
     "output_type": "display_data"
    }
   ],
   "source": [
    "sns.countplot(x=\" no_of_dependents\", hue=\" loan_status\", data=df)\n",
    "plt.title(\"Loan Status vs Number of dependents\")\n",
    "plt.show()"
   ]
  },
  {
   "cell_type": "markdown",
   "id": "b1cc8266-27e6-4b73-a881-3f9a6658e524",
   "metadata": {},
   "source": [
    "Having more dependents doesn't strongly affect loan approval.\n",
    "Whether you have 0 or 5 dependents, the chances of loan approval are fairly similar."
   ]
  },
  {
   "cell_type": "markdown",
   "id": "f8c8305c-31aa-40ac-996d-2aa85981085f",
   "metadata": {},
   "source": [
    "<h4> Does having a co-applicant help get approved? <br>\n",
    "Ans) Nope </h4>"
   ]
  },
  {
   "cell_type": "code",
   "execution_count": 11,
   "id": "bba1421a-8ddf-4d7b-ad34-de503ef51164",
   "metadata": {},
   "outputs": [
    {
     "data": {
      "text/plain": [
       "Index(['loan_id', ' no_of_dependents', ' education', ' self_employed',\n",
       "       ' income_annum', ' loan_amount', ' loan_term', ' cibil_score',\n",
       "       ' residential_assets_value', ' commercial_assets_value',\n",
       "       ' luxury_assets_value', ' bank_asset_value', ' loan_status'],\n",
       "      dtype='object')"
      ]
     },
     "execution_count": 11,
     "metadata": {},
     "output_type": "execute_result"
    }
   ],
   "source": [
    "df.columns"
   ]
  },
  {
   "cell_type": "markdown",
   "id": "ef46f3d2-d06a-40b1-a82e-a7d9040192ea",
   "metadata": {},
   "source": [
    "#### Education"
   ]
  },
  {
   "cell_type": "code",
   "execution_count": 12,
   "id": "d6750c9b-e3ad-4370-96c8-13143769db5a",
   "metadata": {},
   "outputs": [
    {
     "data": {
      "text/plain": [
       "array([' Graduate', ' Not Graduate'], dtype=object)"
      ]
     },
     "execution_count": 12,
     "metadata": {},
     "output_type": "execute_result"
    }
   ],
   "source": [
    "df[\" education\"].unique()"
   ]
  },
  {
   "cell_type": "code",
   "execution_count": 13,
   "id": "8b78dd26-28fb-42e2-aafe-fa6a5e7d1397",
   "metadata": {},
   "outputs": [
    {
     "data": {
      "image/png": "[encoded data removed]",
      "text/plain": [
       "<Figure size 640x480 with 1 Axes>"
      ]
     },
     "metadata": {},
     "output_type": "display_data"
    }
   ],
   "source": [
    "sns.countplot(x=\" education\", hue=\" loan_status\", data=df)\n",
    "plt.title(\"Loan Status vs Education\")\n",
    "plt.show()"
   ]
  },
  {
   "cell_type": "markdown",
   "id": "6c65b374-7b97-49de-ab9e-fcb2d5bb0e6d",
   "metadata": {},
   "source": [
    "Education level (Graduate or Not) doesn’t have a strong impact on loan approval.\n",
    "The approval rate seems almost equal for both categories"
   ]
  },
  {
   "cell_type": "markdown",
   "id": "8b4a67f1-d36c-4f3d-8e2b-6d7048220740",
   "metadata": {},
   "source": [
    "#### Self-Employed"
   ]
  },
  {
   "cell_type": "code",
   "execution_count": 14,
   "id": "c499e7c5-8c87-40f7-94c8-fea8a5ebbf43",
   "metadata": {},
   "outputs": [
    {
     "data": {
      "text/plain": [
       "array([' No', ' Yes'], dtype=object)"
      ]
     },
     "execution_count": 14,
     "metadata": {},
     "output_type": "execute_result"
    }
   ],
   "source": [
    "df[\" self_employed\"].unique()"
   ]
  },
  {
   "cell_type": "code",
   "execution_count": 15,
   "id": "793027a8-0638-40cc-afcd-9be9dd6570dc",
   "metadata": {},
   "outputs": [
    {
     "data": {
      "image/png": "[encoded data removed]",
      "text/plain": [
       "<Figure size 640x480 with 1 Axes>"
      ]
     },
     "metadata": {},
     "output_type": "display_data"
    }
   ],
   "source": [
    "sns.countplot(x=\" self_employed\", hue=\" loan_status\", data=df)\n",
    "plt.title(\"Loan Status vs self_employed\")\n",
    "plt.show()"
   ]
  },
  {
   "cell_type": "markdown",
   "id": "3f081ad2-72b3-4844-9b7e-48bce1a338ba",
   "metadata": {},
   "source": [
    "<h4> Do graduates get approved more than non-graduates? <br>\n",
    "Ans) No much difference in it also"
   ]
  },
  {
   "cell_type": "markdown",
   "id": "5040da2a-45bc-4df3-ab0a-8ea2ecbf51fa",
   "metadata": {},
   "source": [
    "#### income_annum"
   ]
  },
  {
   "cell_type": "code",
   "execution_count": 16,
   "id": "3587e475-d1ed-420c-979f-2fa548165d94",
   "metadata": {},
   "outputs": [
    {
     "name": "stdout",
     "output_type": "stream",
     "text": [
      "<class 'pandas.core.series.Series'>\n",
      "RangeIndex: 4269 entries, 0 to 4268\n",
      "Series name:  income_annum\n",
      "Non-Null Count  Dtype\n",
      "--------------  -----\n",
      "4269 non-null   int64\n",
      "dtypes: int64(1)\n",
      "memory usage: 33.5 KB\n"
     ]
    }
   ],
   "source": [
    "df[\" income_annum\"].info()"
   ]
  },
  {
   "cell_type": "code",
   "execution_count": 17,
   "id": "25ec2f71-53d9-4954-b488-98de7a5a5f92",
   "metadata": {},
   "outputs": [
    {
     "data": {
      "text/plain": [
       "<Axes: xlabel=' loan_status', ylabel=' income_annum'>"
      ]
     },
     "execution_count": 17,
     "metadata": {},
     "output_type": "execute_result"
    },
    {
     "data": {
      "image/png": "[encoded data removed]",
      "text/plain": [
       "<Figure size 640x480 with 1 Axes>"
      ]
     },
     "metadata": {},
     "output_type": "display_data"
    }
   ],
   "source": [
    "sns.boxplot(x=' loan_status', y=' income_annum', data=df)"
   ]
  },
  {
   "cell_type": "code",
   "execution_count": 18,
   "id": "9e54ce1e-66d5-4e8a-a60a-16cb896f7a8b",
   "metadata": {},
   "outputs": [],
   "source": [
    "df[\"loan_to_income\"] = df[\" loan_amount\"] / df[\" income_annum\"]"
   ]
  },
  {
   "cell_type": "code",
   "execution_count": 19,
   "id": "b479662b-c06d-4248-8e92-38875f6893dc",
   "metadata": {},
   "outputs": [
    {
     "data": {
      "text/plain": [
       "<Axes: xlabel=' loan_status', ylabel='loan_to_income'>"
      ]
     },
     "execution_count": 19,
     "metadata": {},
     "output_type": "execute_result"
    },
    {
     "data": {
      "image/png": "[encoded data removed]",
      "text/plain": [
       "<Figure size 640x480 with 1 Axes>"
      ]
     },
     "metadata": {},
     "output_type": "display_data"
    }
   ],
   "source": [
    "sns.boxplot(x=' loan_status', y='loan_to_income', data=df)"
   ]
  },
  {
   "cell_type": "markdown",
   "id": "b56a8356-7462-479f-aa3c-b1902ac9cce1",
   "metadata": {},
   "source": [
    "Mean value of approved have loan_to_income slightly greater"
   ]
  },
  {
   "cell_type": "markdown",
   "id": "6d3943c3-0bdc-41c9-903d-d08bdf53f508",
   "metadata": {},
   "source": [
    "<h4> LoanAmount ÷ Income: any difference between approved and rejected? <br>\n",
    "Mean value of approved have loan_to_income slightly greater\n",
    "</h4>"
   ]
  },
  {
   "cell_type": "code",
   "execution_count": 20,
   "id": "5fdccd1b-2ec0-414b-bbb8-221f9ddefea6",
   "metadata": {},
   "outputs": [
    {
     "data": {
      "text/plain": [
       "Index(['loan_id', ' no_of_dependents', ' education', ' self_employed',\n",
       "       ' income_annum', ' loan_amount', ' loan_term', ' cibil_score',\n",
       "       ' residential_assets_value', ' commercial_assets_value',\n",
       "       ' luxury_assets_value', ' bank_asset_value', ' loan_status',\n",
       "       'loan_to_income'],\n",
       "      dtype='object')"
      ]
     },
     "execution_count": 20,
     "metadata": {},
     "output_type": "execute_result"
    }
   ],
   "source": [
    "df.columns"
   ]
  },
  {
   "cell_type": "code",
   "execution_count": 21,
   "id": "ae576dd1-96c0-4f9a-b066-d306e65ef2a9",
   "metadata": {},
   "outputs": [
    {
     "data": {
      "text/plain": [
       "array([12,  8, 20, 10,  4,  2, 18, 16, 14,  6], dtype=int64)"
      ]
     },
     "execution_count": 21,
     "metadata": {},
     "output_type": "execute_result"
    }
   ],
   "source": [
    "df[\" loan_term\"].unique()"
   ]
  },
  {
   "cell_type": "code",
   "execution_count": 22,
   "id": "7759fb95-3408-45d3-aba2-b05564486b27",
   "metadata": {},
   "outputs": [
    {
     "data": {
      "image/png": "[encoded data removed]",
      "text/plain": [
       "<Figure size 640x480 with 1 Axes>"
      ]
     },
     "metadata": {},
     "output_type": "display_data"
    }
   ],
   "source": [
    "sns.countplot(x=\" loan_term\", hue=\" loan_status\", data=df)\n",
    "plt.title(\"Loan Status vs loan_term\")\n",
    "plt.show()"
   ]
  },
  {
   "cell_type": "markdown",
   "id": "dfe7aa8d-45f2-431f-a853-7a21fc43ee92",
   "metadata": {},
   "source": [
    "Hence, loan with less term is approved more and rejected less, where as converse is true"
   ]
  },
  {
   "cell_type": "markdown",
   "id": "7d215a67-6951-4655-969a-b59025f520f5",
   "metadata": {},
   "source": [
    "<h4>Loan term: Do short or long loans get approved more? <br>\n",
    "Ans) Short loans between 1 to 6 get approved more and rejected less\n",
    "</h4>"
   ]
  },
  {
   "cell_type": "markdown",
   "id": "0bf251e0-d62d-42f8-86d7-9d69ef2d1ebe",
   "metadata": {},
   "source": [
    "####  cibil_score"
   ]
  },
  {
   "cell_type": "code",
   "execution_count": 23,
   "id": "05968ec3-52e0-46c2-a531-790a1267b295",
   "metadata": {},
   "outputs": [
    {
     "name": "stdout",
     "output_type": "stream",
     "text": [
      "<class 'pandas.core.series.Series'>\n",
      "RangeIndex: 4269 entries, 0 to 4268\n",
      "Series name:  cibil_score\n",
      "Non-Null Count  Dtype\n",
      "--------------  -----\n",
      "4269 non-null   int64\n",
      "dtypes: int64(1)\n",
      "memory usage: 33.5 KB\n"
     ]
    }
   ],
   "source": [
    "df[\" cibil_score\"].info()"
   ]
  },
  {
   "cell_type": "code",
   "execution_count": 24,
   "id": "b2afe7c8-2f62-498d-827f-1c7a2a2f4260",
   "metadata": {},
   "outputs": [
    {
     "data": {
      "text/plain": [
       "<Axes: xlabel=' loan_status', ylabel=' cibil_score'>"
      ]
     },
     "execution_count": 24,
     "metadata": {},
     "output_type": "execute_result"
    },
    {
     "data": {
      "image/png": "[encoded data removed]",
      "text/plain": [
       "<Figure size 640x480 with 1 Axes>"
      ]
     },
     "metadata": {},
     "output_type": "display_data"
    }
   ],
   "source": [
    "sns.boxplot(x=' loan_status', y=' cibil_score', data=df)"
   ]
  },
  {
   "cell_type": "markdown",
   "id": "1d0a42f3-1812-4490-a4aa-756603b1a2d8",
   "metadata": {},
   "source": [
    "Higher credit score -> Faster approval, converse is true. Although there are many outlier in both the cases"
   ]
  },
  {
   "cell_type": "markdown",
   "id": "c0c46c03-af29-4525-9992-19d4eaf800da",
   "metadata": {},
   "source": [
    "Removing the Outliers"
   ]
  },
  {
   "cell_type": "code",
   "execution_count": 25,
   "id": "82b63d81-4d3f-4d6b-842e-0a1c7fcd3628",
   "metadata": {},
   "outputs": [
    {
     "data": {
      "text/plain": [
       "(22, 14)"
      ]
     },
     "execution_count": 25,
     "metadata": {},
     "output_type": "execute_result"
    }
   ],
   "source": [
    "df[(df[\" cibil_score\"] < 320) & (df[\" loan_status\"] == \" Approved\")].shape"
   ]
  },
  {
   "cell_type": "code",
   "execution_count": 26,
   "id": "9c0dc777-a783-4cfd-803a-074e91daa87f",
   "metadata": {},
   "outputs": [
    {
     "data": {
      "text/plain": [
       "(7, 14)"
      ]
     },
     "execution_count": 26,
     "metadata": {},
     "output_type": "execute_result"
    }
   ],
   "source": [
    "df[(df[\" cibil_score\"] > 700) & (df[\" loan_status\"] == \" Rejected\")].shape"
   ]
  },
  {
   "cell_type": "code",
   "execution_count": 27,
   "id": "f491d33a-3986-4288-b877-841fb87d7b83",
   "metadata": {},
   "outputs": [],
   "source": [
    "df = df[~((df[\" cibil_score\"] > 700) & (df[\" loan_status\"] == \" Rejected\"))]"
   ]
  },
  {
   "cell_type": "code",
   "execution_count": 28,
   "id": "4ab020cb-57e5-45a1-854d-5cd00e32d128",
   "metadata": {},
   "outputs": [],
   "source": [
    "df = df[~((df[\" cibil_score\"] < 350) & (df[\" loan_status\"] == \" Approved\"))]"
   ]
  },
  {
   "cell_type": "code",
   "execution_count": 29,
   "id": "1243b234-d76c-469e-89e2-dc0fa301044d",
   "metadata": {},
   "outputs": [
    {
     "data": {
      "text/plain": [
       "<Axes: xlabel=' loan_status', ylabel=' cibil_score'>"
      ]
     },
     "execution_count": 29,
     "metadata": {},
     "output_type": "execute_result"
    },
    {
     "data": {
      "image/png": "[encoded data removed]",
      "text/plain": [
       "<Figure size 640x480 with 1 Axes>"
      ]
     },
     "metadata": {},
     "output_type": "display_data"
    }
   ],
   "source": [
    "sns.boxplot(x=' loan_status', y=' cibil_score', data=df)"
   ]
  },
  {
   "cell_type": "code",
   "execution_count": 30,
   "id": "86b1be70-3c5c-4a9e-9d8b-5bfc31416ae8",
   "metadata": {},
   "outputs": [
    {
     "data": {
      "text/plain": [
       "Index(['loan_id', ' no_of_dependents', ' education', ' self_employed',\n",
       "       ' income_annum', ' loan_amount', ' loan_term', ' cibil_score',\n",
       "       ' residential_assets_value', ' commercial_assets_value',\n",
       "       ' luxury_assets_value', ' bank_asset_value', ' loan_status',\n",
       "       'loan_to_income'],\n",
       "      dtype='object')"
      ]
     },
     "execution_count": 30,
     "metadata": {},
     "output_type": "execute_result"
    }
   ],
   "source": [
    "df.columns"
   ]
  },
  {
   "cell_type": "markdown",
   "id": "aab5c49e-0e30-40b7-b69d-7ddf85973195",
   "metadata": {},
   "source": [
    "#### residential_assets_value"
   ]
  },
  {
   "cell_type": "code",
   "execution_count": 31,
   "id": "6f2b7f87-f670-42a3-b0d3-ccac300b0cdd",
   "metadata": {},
   "outputs": [
    {
     "data": {
      "text/plain": [
       "-100000"
      ]
     },
     "execution_count": 31,
     "metadata": {},
     "output_type": "execute_result"
    }
   ],
   "source": [
    "df[\" residential_assets_value\"].min()"
   ]
  },
  {
   "cell_type": "code",
   "execution_count": 32,
   "id": "5a144a55-8990-4e4a-8613-2f34886c9c89",
   "metadata": {},
   "outputs": [
    {
     "data": {
      "text/plain": [
       "(27, 14)"
      ]
     },
     "execution_count": 32,
     "metadata": {},
     "output_type": "execute_result"
    }
   ],
   "source": [
    "df[df[\" residential_assets_value\"]<0].shape"
   ]
  },
  {
   "cell_type": "markdown",
   "id": "d08a7b1c-9b5c-4860-8c25-b15b85612dd8",
   "metadata": {},
   "source": [
    "So basically there are 27 rows in which the value is negative, this means these values are Nan values"
   ]
  },
  {
   "cell_type": "code",
   "execution_count": 33,
   "id": "c868d11e-9458-4889-afe7-279c21cfa1ce",
   "metadata": {},
   "outputs": [],
   "source": [
    "df = df[df[' residential_assets_value'] != -100000]"
   ]
  },
  {
   "cell_type": "code",
   "execution_count": 34,
   "id": "e3947480-8df3-46be-9b63-6008d583b559",
   "metadata": {},
   "outputs": [
    {
     "name": "stdout",
     "output_type": "stream",
     "text": [
      "<class 'pandas.core.frame.DataFrame'>\n",
      "Index: 4194 entries, 0 to 4268\n",
      "Data columns (total 14 columns):\n",
      " #   Column                     Non-Null Count  Dtype  \n",
      "---  ------                     --------------  -----  \n",
      " 0   loan_id                    4194 non-null   int64  \n",
      " 1    no_of_dependents          4194 non-null   int64  \n",
      " 2    education                 4194 non-null   object \n",
      " 3    self_employed             4194 non-null   object \n",
      " 4    income_annum              4194 non-null   int64  \n",
      " 5    loan_amount               4194 non-null   int64  \n",
      " 6    loan_term                 4194 non-null   int64  \n",
      " 7    cibil_score               4194 non-null   int64  \n",
      " 8    residential_assets_value  4194 non-null   int64  \n",
      " 9    commercial_assets_value   4194 non-null   int64  \n",
      " 10   luxury_assets_value       4194 non-null   int64  \n",
      " 11   bank_asset_value          4194 non-null   int64  \n",
      " 12   loan_status               4194 non-null   object \n",
      " 13  loan_to_income             4194 non-null   float64\n",
      "dtypes: float64(1), int64(10), object(3)\n",
      "memory usage: 491.5+ KB\n"
     ]
    }
   ],
   "source": [
    "df.info()"
   ]
  },
  {
   "cell_type": "code",
   "execution_count": 35,
   "id": "a1bc3c81-8b45-47d0-95ec-b347a2d37ff9",
   "metadata": {},
   "outputs": [
    {
     "data": {
      "text/plain": [
       "count    4.194000e+03\n",
       "mean     7.524511e+06\n",
       "std      6.492733e+06\n",
       "min      0.000000e+00\n",
       "25%      2.200000e+06\n",
       "50%      5.700000e+06\n",
       "75%      1.130000e+07\n",
       "max      2.910000e+07\n",
       "Name:  residential_assets_value, dtype: float64"
      ]
     },
     "execution_count": 35,
     "metadata": {},
     "output_type": "execute_result"
    }
   ],
   "source": [
    "df[\" residential_assets_value\"].describe()"
   ]
  },
  {
   "cell_type": "code",
   "execution_count": 36,
   "id": "46efb189-d9a3-4c6b-90a9-a0d4f0f55d23",
   "metadata": {},
   "outputs": [
    {
     "data": {
      "text/plain": [
       "<Axes: xlabel=' loan_status', ylabel=' residential_assets_value'>"
      ]
     },
     "execution_count": 36,
     "metadata": {},
     "output_type": "execute_result"
    },
    {
     "data": {
      "image/png": "[encoded data removed]",
      "text/plain": [
       "<Figure size 640x480 with 1 Axes>"
      ]
     },
     "metadata": {},
     "output_type": "display_data"
    }
   ],
   "source": [
    "sns.boxplot(x=' loan_status', y=' residential_assets_value', data=df)"
   ]
  },
  {
   "cell_type": "markdown",
   "id": "4d339802-3bbc-4f56-b855-e82cdff33978",
   "metadata": {},
   "source": [
    "So basically there is not a much effect of residental values to loan status"
   ]
  },
  {
   "cell_type": "code",
   "execution_count": 37,
   "id": "4a944bd7-e0d9-4dea-bd36-b64c0db5c58b",
   "metadata": {},
   "outputs": [
    {
     "data": {
      "text/plain": [
       "Index(['loan_id', ' no_of_dependents', ' education', ' self_employed',\n",
       "       ' income_annum', ' loan_amount', ' loan_term', ' cibil_score',\n",
       "       ' residential_assets_value', ' commercial_assets_value',\n",
       "       ' luxury_assets_value', ' bank_asset_value', ' loan_status',\n",
       "       'loan_to_income'],\n",
       "      dtype='object')"
      ]
     },
     "execution_count": 37,
     "metadata": {},
     "output_type": "execute_result"
    }
   ],
   "source": [
    "df.columns"
   ]
  },
  {
   "cell_type": "code",
   "execution_count": 38,
   "id": "b4005de6-a1df-4ae3-85cc-d3e888c69ba3",
   "metadata": {},
   "outputs": [
    {
     "data": {
      "text/plain": [
       "count    4.194000e+03\n",
       "mean     4.989604e+06\n",
       "std      4.379507e+06\n",
       "min      0.000000e+00\n",
       "25%      1.400000e+06\n",
       "50%      3.700000e+06\n",
       "75%      7.700000e+06\n",
       "max      1.940000e+07\n",
       "Name:  commercial_assets_value, dtype: float64"
      ]
     },
     "execution_count": 38,
     "metadata": {},
     "output_type": "execute_result"
    }
   ],
   "source": [
    "df[\" commercial_assets_value\"].describe()"
   ]
  },
  {
   "cell_type": "code",
   "execution_count": 39,
   "id": "b5d86b77-2fb9-40c8-9e02-68d90dc37ec7",
   "metadata": {},
   "outputs": [
    {
     "data": {
      "text/plain": [
       "<Axes: xlabel=' loan_status', ylabel=' commercial_assets_value'>"
      ]
     },
     "execution_count": 39,
     "metadata": {},
     "output_type": "execute_result"
    },
    {
     "data": {
      "image/png": "[encoded data removed]",
      "text/plain": [
       "<Figure size 640x480 with 1 Axes>"
      ]
     },
     "metadata": {},
     "output_type": "display_data"
    }
   ],
   "source": [
    "sns.boxplot(x=' loan_status', y=' commercial_assets_value', data=df)"
   ]
  },
  {
   "cell_type": "code",
   "execution_count": 40,
   "id": "ff0728a5-e28d-48d9-a81f-13d667f294e0",
   "metadata": {},
   "outputs": [
    {
     "data": {
      "text/plain": [
       "<Axes: xlabel=' loan_status', ylabel=' bank_asset_value'>"
      ]
     },
     "execution_count": 40,
     "metadata": {},
     "output_type": "execute_result"
    },
    {
     "data": {
      "image/png": "[encoded data removed]",
      "text/plain": [
       "<Figure size 640x480 with 1 Axes>"
      ]
     },
     "metadata": {},
     "output_type": "display_data"
    }
   ],
   "source": [
    "sns.boxplot(x=' loan_status', y=' bank_asset_value', data=df)"
   ]
  },
  {
   "cell_type": "code",
   "execution_count": 41,
   "id": "08beb637-732f-4643-b34d-c2435203dda6",
   "metadata": {},
   "outputs": [
    {
     "name": "stdout",
     "output_type": "stream",
     "text": [
      "<class 'pandas.core.frame.DataFrame'>\n",
      "Index: 4194 entries, 0 to 4268\n",
      "Data columns (total 14 columns):\n",
      " #   Column                     Non-Null Count  Dtype  \n",
      "---  ------                     --------------  -----  \n",
      " 0   loan_id                    4194 non-null   int64  \n",
      " 1    no_of_dependents          4194 non-null   int64  \n",
      " 2    education                 4194 non-null   object \n",
      " 3    self_employed             4194 non-null   object \n",
      " 4    income_annum              4194 non-null   int64  \n",
      " 5    loan_amount               4194 non-null   int64  \n",
      " 6    loan_term                 4194 non-null   int64  \n",
      " 7    cibil_score               4194 non-null   int64  \n",
      " 8    residential_assets_value  4194 non-null   int64  \n",
      " 9    commercial_assets_value   4194 non-null   int64  \n",
      " 10   luxury_assets_value       4194 non-null   int64  \n",
      " 11   bank_asset_value          4194 non-null   int64  \n",
      " 12   loan_status               4194 non-null   object \n",
      " 13  loan_to_income             4194 non-null   float64\n",
      "dtypes: float64(1), int64(10), object(3)\n",
      "memory usage: 491.5+ KB\n"
     ]
    }
   ],
   "source": [
    "df.info()"
   ]
  },
  {
   "cell_type": "markdown",
   "id": "d6c786a7-72f7-46a9-8fbf-638a97bdcccc",
   "metadata": {},
   "source": [
    "Total Approved:"
   ]
  },
  {
   "cell_type": "code",
   "execution_count": 42,
   "id": "f5a01a78-3272-41bb-8834-2a73953d1db0",
   "metadata": {},
   "outputs": [
    {
     "data": {
      "text/plain": [
       "0.6196948020982356"
      ]
     },
     "execution_count": 42,
     "metadata": {},
     "output_type": "execute_result"
    }
   ],
   "source": [
    "df[df[\" loan_status\"]==\" Approved\"].shape[0] / df.shape[0]"
   ]
  },
  {
   "cell_type": "markdown",
   "id": "90fd0400-1b72-499b-837d-e22c84a96b6c",
   "metadata": {},
   "source": [
    "Total Rejected:"
   ]
  },
  {
   "cell_type": "code",
   "execution_count": 43,
   "id": "b7f77942-3fa1-40e6-bb5c-247dc8fab1b5",
   "metadata": {},
   "outputs": [
    {
     "data": {
      "text/plain": [
       "0.3803051979017644"
      ]
     },
     "execution_count": 43,
     "metadata": {},
     "output_type": "execute_result"
    }
   ],
   "source": [
    "df[df[\" loan_status\"]==\" Rejected\"].shape[0] / df.shape[0]"
   ]
  },
  {
   "cell_type": "code",
   "execution_count": 45,
   "id": "ebb8356c-a233-44f1-a446-4c34768e0501",
   "metadata": {
    "scrolled": true
   },
   "outputs": [
    {
     "name": "stdout",
     "output_type": "stream",
     "text": [
      "<class 'pandas.core.frame.DataFrame'>\n",
      "Index: 4194 entries, 0 to 4268\n",
      "Data columns (total 14 columns):\n",
      " #   Column                     Non-Null Count  Dtype  \n",
      "---  ------                     --------------  -----  \n",
      " 0   loan_id                    4194 non-null   int64  \n",
      " 1    no_of_dependents          4194 non-null   int64  \n",
      " 2    education                 4194 non-null   object \n",
      " 3    self_employed             4194 non-null   object \n",
      " 4    income_annum              4194 non-null   int64  \n",
      " 5    loan_amount               4194 non-null   int64  \n",
      " 6    loan_term                 4194 non-null   int64  \n",
      " 7    cibil_score               4194 non-null   int64  \n",
      " 8    residential_assets_value  4194 non-null   int64  \n",
      " 9    commercial_assets_value   4194 non-null   int64  \n",
      " 10   luxury_assets_value       4194 non-null   int64  \n",
      " 11   bank_asset_value          4194 non-null   int64  \n",
      " 12   loan_status               4194 non-null   object \n",
      " 13  loan_to_income             4194 non-null   float64\n",
      "dtypes: float64(1), int64(10), object(3)\n",
      "memory usage: 491.5+ KB\n"
     ]
    }
   ],
   "source": [
    "df.info()"
   ]
  },
  {
   "cell_type": "markdown",
   "id": "60f49628-21ac-4380-a137-e92a51074c75",
   "metadata": {},
   "source": [
    "##### Training a Model"
   ]
  },
  {
   "cell_type": "code",
   "execution_count": 71,
   "id": "2f76d0cb-aa11-4357-abcf-31791b9d3bad",
   "metadata": {},
   "outputs": [],
   "source": [
    "data = df.copy()"
   ]
  },
  {
   "cell_type": "code",
   "execution_count": 72,
   "id": "0872edf2-4de6-4ad2-8d58-ab2f91717b39",
   "metadata": {},
   "outputs": [],
   "source": [
    "df= df.drop([\"loan_id\", \"loan_to_income\"], axis =1)"
   ]
  },
  {
   "cell_type": "code",
   "execution_count": 73,
   "id": "1e93d977-42ee-4893-8e39-761918431aa7",
   "metadata": {},
   "outputs": [
    {
     "name": "stderr",
     "output_type": "stream",
     "text": [
      "C:\\Users\\Anas\\AppData\\Local\\Temp\\ipykernel_1112\\3482704164.py:1: FutureWarning: Downcasting behavior in `replace` is deprecated and will be removed in a future version. To retain the old behavior, explicitly call `result.infer_objects(copy=False)`. To opt-in to the future behavior, set `pd.set_option('future.no_silent_downcasting', True)`\n",
      "  df[\" loan_status\"] = df[\" loan_status\"].replace(\n"
     ]
    }
   ],
   "source": [
    "df[\" loan_status\"] = df[\" loan_status\"].replace(\n",
    "    {\n",
    "        \" Approved\": 1,\n",
    "        \" Rejected\": 0\n",
    "    }\n",
    ")"
   ]
  },
  {
   "cell_type": "code",
   "execution_count": 74,
   "id": "b8c81d11-2831-4a05-abe1-1a2b9443126d",
   "metadata": {},
   "outputs": [
    {
     "data": {
      "text/plain": [
       "0       1\n",
       "1       0\n",
       "2       0\n",
       "3       0\n",
       "4       0\n",
       "       ..\n",
       "4264    0\n",
       "4265    1\n",
       "4266    0\n",
       "4267    1\n",
       "4268    1\n",
       "Name:  loan_status, Length: 4194, dtype: int64"
      ]
     },
     "execution_count": 74,
     "metadata": {},
     "output_type": "execute_result"
    }
   ],
   "source": [
    "df[\" loan_status\"]"
   ]
  },
  {
   "cell_type": "code",
   "execution_count": 75,
   "id": "625b9252-49a5-4582-8418-2b15617dacb5",
   "metadata": {},
   "outputs": [],
   "source": [
    "categorial_data = [\" education\", \" self_employed\"]"
   ]
  },
  {
   "cell_type": "code",
   "execution_count": 76,
   "id": "4a465456-e6c5-4fc8-b78f-efe1cdbd5cf3",
   "metadata": {},
   "outputs": [],
   "source": [
    "from sklearn.pipeline import Pipeline\n",
    "from sklearn.compose import ColumnTransformer\n",
    "from sklearn.preprocessing import OneHotEncoder\n",
    "\n",
    "# ColumnTransformer for One-Hot Encoding\n",
    "preprocessor = ColumnTransformer(\n",
    "    transformers=[\n",
    "        (\"cat\", OneHotEncoder(handle_unknown=\"ignore\"), categorial_data)\n",
    "    ],\n",
    "    remainder=\"passthrough\"  # ✅ This keeps all non-categorical columns\n",
    ")"
   ]
  },
  {
   "cell_type": "code",
   "execution_count": 77,
   "id": "94ad6643-2e51-4628-be1f-a326e738eacc",
   "metadata": {},
   "outputs": [],
   "source": [
    "encoded_array = preprocessor.fit_transform(df)"
   ]
  },
  {
   "cell_type": "code",
   "execution_count": 78,
   "id": "db2dfcdf-9b3d-4841-a842-681398029d85",
   "metadata": {},
   "outputs": [],
   "source": [
    "encoded_df = pd.DataFrame(encoded_array, columns=preprocessor.get_feature_names_out())"
   ]
  },
  {
   "cell_type": "code",
   "execution_count": 79,
   "id": "0fe25c30-0996-44c1-bad7-7b9658ce5c5c",
   "metadata": {},
   "outputs": [
    {
     "data": {
      "text/html": [
       "<div>\n",
       "<style scoped>\n",
       "    .dataframe tbody tr th:only-of-type {\n",
       "        vertical-align: middle;\n",
       "    }\n",
       "\n",
       "    .dataframe tbody tr th {\n",
       "        vertical-align: top;\n",
       "    }\n",
       "\n",
       "    .dataframe thead th {\n",
       "        text-align: right;\n",
       "    }\n",
       "</style>\n",
       "<table border=\"1\" class=\"dataframe\">\n",
       "  <thead>\n",
       "    <tr style=\"text-align: right;\">\n",
       "      <th></th>\n",
       "      <th>cat__ education_ Graduate</th>\n",
       "      <th>cat__ education_ Not Graduate</th>\n",
       "      <th>cat__ self_employed_ No</th>\n",
       "      <th>cat__ self_employed_ Yes</th>\n",
       "      <th>remainder__ no_of_dependents</th>\n",
       "      <th>remainder__ income_annum</th>\n",
       "      <th>remainder__ loan_amount</th>\n",
       "      <th>remainder__ loan_term</th>\n",
       "      <th>remainder__ cibil_score</th>\n",
       "      <th>remainder__ residential_assets_value</th>\n",
       "      <th>remainder__ commercial_assets_value</th>\n",
       "      <th>remainder__ luxury_assets_value</th>\n",
       "      <th>remainder__ bank_asset_value</th>\n",
       "      <th>remainder__ loan_status</th>\n",
       "    </tr>\n",
       "  </thead>\n",
       "  <tbody>\n",
       "    <tr>\n",
       "      <th>0</th>\n",
       "      <td>1.0</td>\n",
       "      <td>0.0</td>\n",
       "      <td>1.0</td>\n",
       "      <td>0.0</td>\n",
       "      <td>2.0</td>\n",
       "      <td>9600000.0</td>\n",
       "      <td>29900000.0</td>\n",
       "      <td>12.0</td>\n",
       "      <td>778.0</td>\n",
       "      <td>2400000.0</td>\n",
       "      <td>17600000.0</td>\n",
       "      <td>22700000.0</td>\n",
       "      <td>8000000.0</td>\n",
       "      <td>1.0</td>\n",
       "    </tr>\n",
       "    <tr>\n",
       "      <th>1</th>\n",
       "      <td>0.0</td>\n",
       "      <td>1.0</td>\n",
       "      <td>0.0</td>\n",
       "      <td>1.0</td>\n",
       "      <td>0.0</td>\n",
       "      <td>4100000.0</td>\n",
       "      <td>12200000.0</td>\n",
       "      <td>8.0</td>\n",
       "      <td>417.0</td>\n",
       "      <td>2700000.0</td>\n",
       "      <td>2200000.0</td>\n",
       "      <td>8800000.0</td>\n",
       "      <td>3300000.0</td>\n",
       "      <td>0.0</td>\n",
       "    </tr>\n",
       "    <tr>\n",
       "      <th>2</th>\n",
       "      <td>1.0</td>\n",
       "      <td>0.0</td>\n",
       "      <td>1.0</td>\n",
       "      <td>0.0</td>\n",
       "      <td>3.0</td>\n",
       "      <td>9100000.0</td>\n",
       "      <td>29700000.0</td>\n",
       "      <td>20.0</td>\n",
       "      <td>506.0</td>\n",
       "      <td>7100000.0</td>\n",
       "      <td>4500000.0</td>\n",
       "      <td>33300000.0</td>\n",
       "      <td>12800000.0</td>\n",
       "      <td>0.0</td>\n",
       "    </tr>\n",
       "    <tr>\n",
       "      <th>3</th>\n",
       "      <td>1.0</td>\n",
       "      <td>0.0</td>\n",
       "      <td>1.0</td>\n",
       "      <td>0.0</td>\n",
       "      <td>3.0</td>\n",
       "      <td>8200000.0</td>\n",
       "      <td>30700000.0</td>\n",
       "      <td>8.0</td>\n",
       "      <td>467.0</td>\n",
       "      <td>18200000.0</td>\n",
       "      <td>3300000.0</td>\n",
       "      <td>23300000.0</td>\n",
       "      <td>7900000.0</td>\n",
       "      <td>0.0</td>\n",
       "    </tr>\n",
       "    <tr>\n",
       "      <th>4</th>\n",
       "      <td>0.0</td>\n",
       "      <td>1.0</td>\n",
       "      <td>0.0</td>\n",
       "      <td>1.0</td>\n",
       "      <td>5.0</td>\n",
       "      <td>9800000.0</td>\n",
       "      <td>24200000.0</td>\n",
       "      <td>20.0</td>\n",
       "      <td>382.0</td>\n",
       "      <td>12400000.0</td>\n",
       "      <td>8200000.0</td>\n",
       "      <td>29400000.0</td>\n",
       "      <td>5000000.0</td>\n",
       "      <td>0.0</td>\n",
       "    </tr>\n",
       "    <tr>\n",
       "      <th>...</th>\n",
       "      <td>...</td>\n",
       "      <td>...</td>\n",
       "      <td>...</td>\n",
       "      <td>...</td>\n",
       "      <td>...</td>\n",
       "      <td>...</td>\n",
       "      <td>...</td>\n",
       "      <td>...</td>\n",
       "      <td>...</td>\n",
       "      <td>...</td>\n",
       "      <td>...</td>\n",
       "      <td>...</td>\n",
       "      <td>...</td>\n",
       "      <td>...</td>\n",
       "    </tr>\n",
       "    <tr>\n",
       "      <th>4189</th>\n",
       "      <td>1.0</td>\n",
       "      <td>0.0</td>\n",
       "      <td>0.0</td>\n",
       "      <td>1.0</td>\n",
       "      <td>5.0</td>\n",
       "      <td>1000000.0</td>\n",
       "      <td>2300000.0</td>\n",
       "      <td>12.0</td>\n",
       "      <td>317.0</td>\n",
       "      <td>2800000.0</td>\n",
       "      <td>500000.0</td>\n",
       "      <td>3300000.0</td>\n",
       "      <td>800000.0</td>\n",
       "      <td>0.0</td>\n",
       "    </tr>\n",
       "    <tr>\n",
       "      <th>4190</th>\n",
       "      <td>0.0</td>\n",
       "      <td>1.0</td>\n",
       "      <td>0.0</td>\n",
       "      <td>1.0</td>\n",
       "      <td>0.0</td>\n",
       "      <td>3300000.0</td>\n",
       "      <td>11300000.0</td>\n",
       "      <td>20.0</td>\n",
       "      <td>559.0</td>\n",
       "      <td>4200000.0</td>\n",
       "      <td>2900000.0</td>\n",
       "      <td>11000000.0</td>\n",
       "      <td>1900000.0</td>\n",
       "      <td>1.0</td>\n",
       "    </tr>\n",
       "    <tr>\n",
       "      <th>4191</th>\n",
       "      <td>0.0</td>\n",
       "      <td>1.0</td>\n",
       "      <td>1.0</td>\n",
       "      <td>0.0</td>\n",
       "      <td>2.0</td>\n",
       "      <td>6500000.0</td>\n",
       "      <td>23900000.0</td>\n",
       "      <td>18.0</td>\n",
       "      <td>457.0</td>\n",
       "      <td>1200000.0</td>\n",
       "      <td>12400000.0</td>\n",
       "      <td>18100000.0</td>\n",
       "      <td>7300000.0</td>\n",
       "      <td>0.0</td>\n",
       "    </tr>\n",
       "    <tr>\n",
       "      <th>4192</th>\n",
       "      <td>0.0</td>\n",
       "      <td>1.0</td>\n",
       "      <td>1.0</td>\n",
       "      <td>0.0</td>\n",
       "      <td>1.0</td>\n",
       "      <td>4100000.0</td>\n",
       "      <td>12800000.0</td>\n",
       "      <td>8.0</td>\n",
       "      <td>780.0</td>\n",
       "      <td>8200000.0</td>\n",
       "      <td>700000.0</td>\n",
       "      <td>14100000.0</td>\n",
       "      <td>5800000.0</td>\n",
       "      <td>1.0</td>\n",
       "    </tr>\n",
       "    <tr>\n",
       "      <th>4193</th>\n",
       "      <td>1.0</td>\n",
       "      <td>0.0</td>\n",
       "      <td>1.0</td>\n",
       "      <td>0.0</td>\n",
       "      <td>1.0</td>\n",
       "      <td>9200000.0</td>\n",
       "      <td>29700000.0</td>\n",
       "      <td>10.0</td>\n",
       "      <td>607.0</td>\n",
       "      <td>17800000.0</td>\n",
       "      <td>11800000.0</td>\n",
       "      <td>35700000.0</td>\n",
       "      <td>12000000.0</td>\n",
       "      <td>1.0</td>\n",
       "    </tr>\n",
       "  </tbody>\n",
       "</table>\n",
       "<p>4194 rows × 14 columns</p>\n",
       "</div>"
      ],
      "text/plain": [
       "      cat__ education_ Graduate  cat__ education_ Not Graduate  \\\n",
       "0                           1.0                            0.0   \n",
       "1                           0.0                            1.0   \n",
       "2                           1.0                            0.0   \n",
       "3                           1.0                            0.0   \n",
       "4                           0.0                            1.0   \n",
       "...                         ...                            ...   \n",
       "4189                        1.0                            0.0   \n",
       "4190                        0.0                            1.0   \n",
       "4191                        0.0                            1.0   \n",
       "4192                        0.0                            1.0   \n",
       "4193                        1.0                            0.0   \n",
       "\n",
       "      cat__ self_employed_ No  cat__ self_employed_ Yes  \\\n",
       "0                         1.0                       0.0   \n",
       "1                         0.0                       1.0   \n",
       "2                         1.0                       0.0   \n",
       "3                         1.0                       0.0   \n",
       "4                         0.0                       1.0   \n",
       "...                       ...                       ...   \n",
       "4189                      0.0                       1.0   \n",
       "4190                      0.0                       1.0   \n",
       "4191                      1.0                       0.0   \n",
       "4192                      1.0                       0.0   \n",
       "4193                      1.0                       0.0   \n",
       "\n",
       "      remainder__ no_of_dependents  remainder__ income_annum  \\\n",
       "0                              2.0                 9600000.0   \n",
       "1                              0.0                 4100000.0   \n",
       "2                              3.0                 9100000.0   \n",
       "3                              3.0                 8200000.0   \n",
       "4                              5.0                 9800000.0   \n",
       "...                            ...                       ...   \n",
       "4189                           5.0                 1000000.0   \n",
       "4190                           0.0                 3300000.0   \n",
       "4191                           2.0                 6500000.0   \n",
       "4192                           1.0                 4100000.0   \n",
       "4193                           1.0                 9200000.0   \n",
       "\n",
       "      remainder__ loan_amount  remainder__ loan_term  remainder__ cibil_score  \\\n",
       "0                  29900000.0                   12.0                    778.0   \n",
       "1                  12200000.0                    8.0                    417.0   \n",
       "2                  29700000.0                   20.0                    506.0   \n",
       "3                  30700000.0                    8.0                    467.0   \n",
       "4                  24200000.0                   20.0                    382.0   \n",
       "...                       ...                    ...                      ...   \n",
       "4189                2300000.0                   12.0                    317.0   \n",
       "4190               11300000.0                   20.0                    559.0   \n",
       "4191               23900000.0                   18.0                    457.0   \n",
       "4192               12800000.0                    8.0                    780.0   \n",
       "4193               29700000.0                   10.0                    607.0   \n",
       "\n",
       "      remainder__ residential_assets_value  \\\n",
       "0                                2400000.0   \n",
       "1                                2700000.0   \n",
       "2                                7100000.0   \n",
       "3                               18200000.0   \n",
       "4                               12400000.0   \n",
       "...                                    ...   \n",
       "4189                             2800000.0   \n",
       "4190                             4200000.0   \n",
       "4191                             1200000.0   \n",
       "4192                             8200000.0   \n",
       "4193                            17800000.0   \n",
       "\n",
       "      remainder__ commercial_assets_value  remainder__ luxury_assets_value  \\\n",
       "0                              17600000.0                       22700000.0   \n",
       "1                               2200000.0                        8800000.0   \n",
       "2                               4500000.0                       33300000.0   \n",
       "3                               3300000.0                       23300000.0   \n",
       "4                               8200000.0                       29400000.0   \n",
       "...                                   ...                              ...   \n",
       "4189                             500000.0                        3300000.0   \n",
       "4190                            2900000.0                       11000000.0   \n",
       "4191                           12400000.0                       18100000.0   \n",
       "4192                             700000.0                       14100000.0   \n",
       "4193                           11800000.0                       35700000.0   \n",
       "\n",
       "      remainder__ bank_asset_value  remainder__ loan_status  \n",
       "0                        8000000.0                      1.0  \n",
       "1                        3300000.0                      0.0  \n",
       "2                       12800000.0                      0.0  \n",
       "3                        7900000.0                      0.0  \n",
       "4                        5000000.0                      0.0  \n",
       "...                            ...                      ...  \n",
       "4189                      800000.0                      0.0  \n",
       "4190                     1900000.0                      1.0  \n",
       "4191                     7300000.0                      0.0  \n",
       "4192                     5800000.0                      1.0  \n",
       "4193                    12000000.0                      1.0  \n",
       "\n",
       "[4194 rows x 14 columns]"
      ]
     },
     "execution_count": 79,
     "metadata": {},
     "output_type": "execute_result"
    }
   ],
   "source": [
    "encoded_df"
   ]
  },
  {
   "cell_type": "code",
   "execution_count": 80,
   "id": "d4a98cf6-be8d-42a4-8c52-a4aa79978913",
   "metadata": {},
   "outputs": [
    {
     "data": {
      "text/plain": [
       "Index(['cat__ education_ Graduate', 'cat__ education_ Not Graduate',\n",
       "       'cat__ self_employed_ No', 'cat__ self_employed_ Yes',\n",
       "       'remainder__ no_of_dependents', 'remainder__ income_annum',\n",
       "       'remainder__ loan_amount', 'remainder__ loan_term',\n",
       "       'remainder__ cibil_score', 'remainder__ residential_assets_value',\n",
       "       'remainder__ commercial_assets_value',\n",
       "       'remainder__ luxury_assets_value', 'remainder__ bank_asset_value',\n",
       "       'remainder__ loan_status'],\n",
       "      dtype='object')"
      ]
     },
     "execution_count": 80,
     "metadata": {},
     "output_type": "execute_result"
    }
   ],
   "source": [
    "encoded_df.columns"
   ]
  },
  {
   "cell_type": "code",
   "execution_count": 82,
   "id": "11ed78c2-618d-4fc3-8a56-bbbb45e4782f",
   "metadata": {},
   "outputs": [],
   "source": [
    "X = encoded_df.drop([\"remainder__ loan_status\"], axis=1)\n",
    "y = encoded_df[\"remainder__ loan_status\"]"
   ]
  },
  {
   "cell_type": "code",
   "execution_count": 84,
   "id": "d7a1b7c3-19e1-4ef0-9ffc-b61de474bed1",
   "metadata": {},
   "outputs": [],
   "source": [
    "from sklearn.model_selection import train_test_split"
   ]
  },
  {
   "cell_type": "code",
   "execution_count": 85,
   "id": "7fb4d18c-a5b5-4cba-ad5f-dcb68cd4642a",
   "metadata": {},
   "outputs": [],
   "source": [
    "X_train, X_test, y_train, y_test = train_test_split(X, y, test_size=0.2, shuffle=True, stratify=y, random_state=27)"
   ]
  },
  {
   "cell_type": "code",
   "execution_count": 86,
   "id": "e7c08f7b-5bd3-4935-9cc3-c0a6e734e309",
   "metadata": {},
   "outputs": [],
   "source": [
    "from sklearn.tree import DecisionTreeClassifier"
   ]
  },
  {
   "cell_type": "code",
   "execution_count": 87,
   "id": "d1979b5f-36c5-4c3c-828a-0efab5c7bc75",
   "metadata": {},
   "outputs": [],
   "source": [
    "dtree = DecisionTreeClassifier()"
   ]
  },
  {
   "cell_type": "code",
   "execution_count": 88,
   "id": "d3808750-dedb-4a50-8952-88917b36fc5c",
   "metadata": {},
   "outputs": [
    {
     "data": {
      "text/html": [
       "<style>#sk-container-id-1 {\n",
       "  /* Definition of color scheme common for light and dark mode */\n",
       "  --sklearn-color-text: black;\n",
       "  --sklearn-color-line: gray;\n",
       "  /* Definition of color scheme for unfitted estimators */\n",
       "  --sklearn-color-unfitted-level-0: #fff5e6;\n",
       "  --sklearn-color-unfitted-level-1: #f6e4d2;\n",
       "  --sklearn-color-unfitted-level-2: #ffe0b3;\n",
       "  --sklearn-color-unfitted-level-3: chocolate;\n",
       "  /* Definition of color scheme for fitted estimators */\n",
       "  --sklearn-color-fitted-level-0: #f0f8ff;\n",
       "  --sklearn-color-fitted-level-1: #d4ebff;\n",
       "  --sklearn-color-fitted-level-2: #b3dbfd;\n",
       "  --sklearn-color-fitted-level-3: cornflowerblue;\n",
       "\n",
       "  /* Specific color for light theme */\n",
       "  --sklearn-color-text-on-default-background: var(--sg-text-color, var(--theme-code-foreground, var(--jp-content-font-color1, black)));\n",
       "  --sklearn-color-background: var(--sg-background-color, var(--theme-background, var(--jp-layout-color0, white)));\n",
       "  --sklearn-color-border-box: var(--sg-text-color, var(--theme-code-foreground, var(--jp-content-font-color1, black)));\n",
       "  --sklearn-color-icon: #696969;\n",
       "\n",
       "  @media (prefers-color-scheme: dark) {\n",
       "    /* Redefinition of color scheme for dark theme */\n",
       "    --sklearn-color-text-on-default-background: var(--sg-text-color, var(--theme-code-foreground, var(--jp-content-font-color1, white)));\n",
       "    --sklearn-color-background: var(--sg-background-color, var(--theme-background, var(--jp-layout-color0, #111)));\n",
       "    --sklearn-color-border-box: var(--sg-text-color, var(--theme-code-foreground, var(--jp-content-font-color1, white)));\n",
       "    --sklearn-color-icon: #878787;\n",
       "  }\n",
       "}\n",
       "\n",
       "#sk-container-id-1 {\n",
       "  color: var(--sklearn-color-text);\n",
       "}\n",
       "\n",
       "#sk-container-id-1 pre {\n",
       "  padding: 0;\n",
       "}\n",
       "\n",
       "#sk-container-id-1 input.sk-hidden--visually {\n",
       "  border: 0;\n",
       "  clip: rect(1px 1px 1px 1px);\n",
       "  clip: rect(1px, 1px, 1px, 1px);\n",
       "  height: 1px;\n",
       "  margin: -1px;\n",
       "  overflow: hidden;\n",
       "  padding: 0;\n",
       "  position: absolute;\n",
       "  width: 1px;\n",
       "}\n",
       "\n",
       "#sk-container-id-1 div.sk-dashed-wrapped {\n",
       "  border: 1px dashed var(--sklearn-color-line);\n",
       "  margin: 0 0.4em 0.5em 0.4em;\n",
       "  box-sizing: border-box;\n",
       "  padding-bottom: 0.4em;\n",
       "  background-color: var(--sklearn-color-background);\n",
       "}\n",
       "\n",
       "#sk-container-id-1 div.sk-container {\n",
       "  /* jupyter's `normalize.less` sets `[hidden] { display: none; }`\n",
       "     but bootstrap.min.css set `[hidden] { display: none !important; }`\n",
       "     so we also need the `!important` here to be able to override the\n",
       "     default hidden behavior on the sphinx rendered scikit-learn.org.\n",
       "     See: https://github.com/scikit-learn/scikit-learn/issues/21755 */\n",
       "  display: inline-block !important;\n",
       "  position: relative;\n",
       "}\n",
       "\n",
       "#sk-container-id-1 div.sk-text-repr-fallback {\n",
       "  display: none;\n",
       "}\n",
       "\n",
       "div.sk-parallel-item,\n",
       "div.sk-serial,\n",
       "div.sk-item {\n",
       "  /* draw centered vertical line to link estimators */\n",
       "  background-image: linear-gradient(var(--sklearn-color-text-on-default-background), var(--sklearn-color-text-on-default-background));\n",
       "  background-size: 2px 100%;\n",
       "  background-repeat: no-repeat;\n",
       "  background-position: center center;\n",
       "}\n",
       "\n",
       "/* Parallel-specific style estimator block */\n",
       "\n",
       "#sk-container-id-1 div.sk-parallel-item::after {\n",
       "  content: \"\";\n",
       "  width: 100%;\n",
       "  border-bottom: 2px solid var(--sklearn-color-text-on-default-background);\n",
       "  flex-grow: 1;\n",
       "}\n",
       "\n",
       "#sk-container-id-1 div.sk-parallel {\n",
       "  display: flex;\n",
       "  align-items: stretch;\n",
       "  justify-content: center;\n",
       "  background-color: var(--sklearn-color-background);\n",
       "  position: relative;\n",
       "}\n",
       "\n",
       "#sk-container-id-1 div.sk-parallel-item {\n",
       "  display: flex;\n",
       "  flex-direction: column;\n",
       "}\n",
       "\n",
       "#sk-container-id-1 div.sk-parallel-item:first-child::after {\n",
       "  align-self: flex-end;\n",
       "  width: 50%;\n",
       "}\n",
       "\n",
       "#sk-container-id-1 div.sk-parallel-item:last-child::after {\n",
       "  align-self: flex-start;\n",
       "  width: 50%;\n",
       "}\n",
       "\n",
       "#sk-container-id-1 div.sk-parallel-item:only-child::after {\n",
       "  width: 0;\n",
       "}\n",
       "\n",
       "/* Serial-specific style estimator block */\n",
       "\n",
       "#sk-container-id-1 div.sk-serial {\n",
       "  display: flex;\n",
       "  flex-direction: column;\n",
       "  align-items: center;\n",
       "  background-color: var(--sklearn-color-background);\n",
       "  padding-right: 1em;\n",
       "  padding-left: 1em;\n",
       "}\n",
       "\n",
       "\n",
       "/* Toggleable style: style used for estimator/Pipeline/ColumnTransformer box that is\n",
       "clickable and can be expanded/collapsed.\n",
       "- Pipeline and ColumnTransformer use this feature and define the default style\n",
       "- Estimators will overwrite some part of the style using the `sk-estimator` class\n",
       "*/\n",
       "\n",
       "/* Pipeline and ColumnTransformer style (default) */\n",
       "\n",
       "#sk-container-id-1 div.sk-toggleable {\n",
       "  /* Default theme specific background. It is overwritten whether we have a\n",
       "  specific estimator or a Pipeline/ColumnTransformer */\n",
       "  background-color: var(--sklearn-color-background);\n",
       "}\n",
       "\n",
       "/* Toggleable label */\n",
       "#sk-container-id-1 label.sk-toggleable__label {\n",
       "  cursor: pointer;\n",
       "  display: block;\n",
       "  width: 100%;\n",
       "  margin-bottom: 0;\n",
       "  padding: 0.5em;\n",
       "  box-sizing: border-box;\n",
       "  text-align: center;\n",
       "}\n",
       "\n",
       "#sk-container-id-1 label.sk-toggleable__label-arrow:before {\n",
       "  /* Arrow on the left of the label */\n",
       "  content: \"▸\";\n",
       "  float: left;\n",
       "  margin-right: 0.25em;\n",
       "  color: var(--sklearn-color-icon);\n",
       "}\n",
       "\n",
       "#sk-container-id-1 label.sk-toggleable__label-arrow:hover:before {\n",
       "  color: var(--sklearn-color-text);\n",
       "}\n",
       "\n",
       "/* Toggleable content - dropdown */\n",
       "\n",
       "#sk-container-id-1 div.sk-toggleable__content {\n",
       "  max-height: 0;\n",
       "  max-width: 0;\n",
       "  overflow: hidden;\n",
       "  text-align: left;\n",
       "  /* unfitted */\n",
       "  background-color: var(--sklearn-color-unfitted-level-0);\n",
       "}\n",
       "\n",
       "#sk-container-id-1 div.sk-toggleable__content.fitted {\n",
       "  /* fitted */\n",
       "  background-color: var(--sklearn-color-fitted-level-0);\n",
       "}\n",
       "\n",
       "#sk-container-id-1 div.sk-toggleable__content pre {\n",
       "  margin: 0.2em;\n",
       "  border-radius: 0.25em;\n",
       "  color: var(--sklearn-color-text);\n",
       "  /* unfitted */\n",
       "  background-color: var(--sklearn-color-unfitted-level-0);\n",
       "}\n",
       "\n",
       "#sk-container-id-1 div.sk-toggleable__content.fitted pre {\n",
       "  /* unfitted */\n",
       "  background-color: var(--sklearn-color-fitted-level-0);\n",
       "}\n",
       "\n",
       "#sk-container-id-1 input.sk-toggleable__control:checked~div.sk-toggleable__content {\n",
       "  /* Expand drop-down */\n",
       "  max-height: 200px;\n",
       "  max-width: 100%;\n",
       "  overflow: auto;\n",
       "}\n",
       "\n",
       "#sk-container-id-1 input.sk-toggleable__control:checked~label.sk-toggleable__label-arrow:before {\n",
       "  content: \"▾\";\n",
       "}\n",
       "\n",
       "/* Pipeline/ColumnTransformer-specific style */\n",
       "\n",
       "#sk-container-id-1 div.sk-label input.sk-toggleable__control:checked~label.sk-toggleable__label {\n",
       "  color: var(--sklearn-color-text);\n",
       "  background-color: var(--sklearn-color-unfitted-level-2);\n",
       "}\n",
       "\n",
       "#sk-container-id-1 div.sk-label.fitted input.sk-toggleable__control:checked~label.sk-toggleable__label {\n",
       "  background-color: var(--sklearn-color-fitted-level-2);\n",
       "}\n",
       "\n",
       "/* Estimator-specific style */\n",
       "\n",
       "/* Colorize estimator box */\n",
       "#sk-container-id-1 div.sk-estimator input.sk-toggleable__control:checked~label.sk-toggleable__label {\n",
       "  /* unfitted */\n",
       "  background-color: var(--sklearn-color-unfitted-level-2);\n",
       "}\n",
       "\n",
       "#sk-container-id-1 div.sk-estimator.fitted input.sk-toggleable__control:checked~label.sk-toggleable__label {\n",
       "  /* fitted */\n",
       "  background-color: var(--sklearn-color-fitted-level-2);\n",
       "}\n",
       "\n",
       "#sk-container-id-1 div.sk-label label.sk-toggleable__label,\n",
       "#sk-container-id-1 div.sk-label label {\n",
       "  /* The background is the default theme color */\n",
       "  color: var(--sklearn-color-text-on-default-background);\n",
       "}\n",
       "\n",
       "/* On hover, darken the color of the background */\n",
       "#sk-container-id-1 div.sk-label:hover label.sk-toggleable__label {\n",
       "  color: var(--sklearn-color-text);\n",
       "  background-color: var(--sklearn-color-unfitted-level-2);\n",
       "}\n",
       "\n",
       "/* Label box, darken color on hover, fitted */\n",
       "#sk-container-id-1 div.sk-label.fitted:hover label.sk-toggleable__label.fitted {\n",
       "  color: var(--sklearn-color-text);\n",
       "  background-color: var(--sklearn-color-fitted-level-2);\n",
       "}\n",
       "\n",
       "/* Estimator label */\n",
       "\n",
       "#sk-container-id-1 div.sk-label label {\n",
       "  font-family: monospace;\n",
       "  font-weight: bold;\n",
       "  display: inline-block;\n",
       "  line-height: 1.2em;\n",
       "}\n",
       "\n",
       "#sk-container-id-1 div.sk-label-container {\n",
       "  text-align: center;\n",
       "}\n",
       "\n",
       "/* Estimator-specific */\n",
       "#sk-container-id-1 div.sk-estimator {\n",
       "  font-family: monospace;\n",
       "  border: 1px dotted var(--sklearn-color-border-box);\n",
       "  border-radius: 0.25em;\n",
       "  box-sizing: border-box;\n",
       "  margin-bottom: 0.5em;\n",
       "  /* unfitted */\n",
       "  background-color: var(--sklearn-color-unfitted-level-0);\n",
       "}\n",
       "\n",
       "#sk-container-id-1 div.sk-estimator.fitted {\n",
       "  /* fitted */\n",
       "  background-color: var(--sklearn-color-fitted-level-0);\n",
       "}\n",
       "\n",
       "/* on hover */\n",
       "#sk-container-id-1 div.sk-estimator:hover {\n",
       "  /* unfitted */\n",
       "  background-color: var(--sklearn-color-unfitted-level-2);\n",
       "}\n",
       "\n",
       "#sk-container-id-1 div.sk-estimator.fitted:hover {\n",
       "  /* fitted */\n",
       "  background-color: var(--sklearn-color-fitted-level-2);\n",
       "}\n",
       "\n",
       "/* Specification for estimator info (e.g. \"i\" and \"?\") */\n",
       "\n",
       "/* Common style for \"i\" and \"?\" */\n",
       "\n",
       ".sk-estimator-doc-link,\n",
       "a:link.sk-estimator-doc-link,\n",
       "a:visited.sk-estimator-doc-link {\n",
       "  float: right;\n",
       "  font-size: smaller;\n",
       "  line-height: 1em;\n",
       "  font-family: monospace;\n",
       "  background-color: var(--sklearn-color-background);\n",
       "  border-radius: 1em;\n",
       "  height: 1em;\n",
       "  width: 1em;\n",
       "  text-decoration: none !important;\n",
       "  margin-left: 1ex;\n",
       "  /* unfitted */\n",
       "  border: var(--sklearn-color-unfitted-level-1) 1pt solid;\n",
       "  color: var(--sklearn-color-unfitted-level-1);\n",
       "}\n",
       "\n",
       ".sk-estimator-doc-link.fitted,\n",
       "a:link.sk-estimator-doc-link.fitted,\n",
       "a:visited.sk-estimator-doc-link.fitted {\n",
       "  /* fitted */\n",
       "  border: var(--sklearn-color-fitted-level-1) 1pt solid;\n",
       "  color: var(--sklearn-color-fitted-level-1);\n",
       "}\n",
       "\n",
       "/* On hover */\n",
       "div.sk-estimator:hover .sk-estimator-doc-link:hover,\n",
       ".sk-estimator-doc-link:hover,\n",
       "div.sk-label-container:hover .sk-estimator-doc-link:hover,\n",
       ".sk-estimator-doc-link:hover {\n",
       "  /* unfitted */\n",
       "  background-color: var(--sklearn-color-unfitted-level-3);\n",
       "  color: var(--sklearn-color-background);\n",
       "  text-decoration: none;\n",
       "}\n",
       "\n",
       "div.sk-estimator.fitted:hover .sk-estimator-doc-link.fitted:hover,\n",
       ".sk-estimator-doc-link.fitted:hover,\n",
       "div.sk-label-container:hover .sk-estimator-doc-link.fitted:hover,\n",
       ".sk-estimator-doc-link.fitted:hover {\n",
       "  /* fitted */\n",
       "  background-color: var(--sklearn-color-fitted-level-3);\n",
       "  color: var(--sklearn-color-background);\n",
       "  text-decoration: none;\n",
       "}\n",
       "\n",
       "/* Span, style for the box shown on hovering the info icon */\n",
       ".sk-estimator-doc-link span {\n",
       "  display: none;\n",
       "  z-index: 9999;\n",
       "  position: relative;\n",
       "  font-weight: normal;\n",
       "  right: .2ex;\n",
       "  padding: .5ex;\n",
       "  margin: .5ex;\n",
       "  width: min-content;\n",
       "  min-width: 20ex;\n",
       "  max-width: 50ex;\n",
       "  color: var(--sklearn-color-text);\n",
       "  box-shadow: 2pt 2pt 4pt #999;\n",
       "  /* unfitted */\n",
       "  background: var(--sklearn-color-unfitted-level-0);\n",
       "  border: .5pt solid var(--sklearn-color-unfitted-level-3);\n",
       "}\n",
       "\n",
       ".sk-estimator-doc-link.fitted span {\n",
       "  /* fitted */\n",
       "  background: var(--sklearn-color-fitted-level-0);\n",
       "  border: var(--sklearn-color-fitted-level-3);\n",
       "}\n",
       "\n",
       ".sk-estimator-doc-link:hover span {\n",
       "  display: block;\n",
       "}\n",
       "\n",
       "/* \"?\"-specific style due to the `<a>` HTML tag */\n",
       "\n",
       "#sk-container-id-1 a.estimator_doc_link {\n",
       "  float: right;\n",
       "  font-size: 1rem;\n",
       "  line-height: 1em;\n",
       "  font-family: monospace;\n",
       "  background-color: var(--sklearn-color-background);\n",
       "  border-radius: 1rem;\n",
       "  height: 1rem;\n",
       "  width: 1rem;\n",
       "  text-decoration: none;\n",
       "  /* unfitted */\n",
       "  color: var(--sklearn-color-unfitted-level-1);\n",
       "  border: var(--sklearn-color-unfitted-level-1) 1pt solid;\n",
       "}\n",
       "\n",
       "#sk-container-id-1 a.estimator_doc_link.fitted {\n",
       "  /* fitted */\n",
       "  border: var(--sklearn-color-fitted-level-1) 1pt solid;\n",
       "  color: var(--sklearn-color-fitted-level-1);\n",
       "}\n",
       "\n",
       "/* On hover */\n",
       "#sk-container-id-1 a.estimator_doc_link:hover {\n",
       "  /* unfitted */\n",
       "  background-color: var(--sklearn-color-unfitted-level-3);\n",
       "  color: var(--sklearn-color-background);\n",
       "  text-decoration: none;\n",
       "}\n",
       "\n",
       "#sk-container-id-1 a.estimator_doc_link.fitted:hover {\n",
       "  /* fitted */\n",
       "  background-color: var(--sklearn-color-fitted-level-3);\n",
       "}\n",
       "</style><div id=\"sk-container-id-1\" class=\"sk-top-container\"><div class=\"sk-text-repr-fallback\"><pre>DecisionTreeClassifier()</pre><b>In a Jupyter environment, please rerun this cell to show the HTML representation or trust the notebook. <br />On GitHub, the HTML representation is unable to render, please try loading this page with nbviewer.org.</b></div><div class=\"sk-container\" hidden><div class=\"sk-item\"><div class=\"sk-estimator fitted sk-toggleable\"><input class=\"sk-toggleable__control sk-hidden--visually\" id=\"sk-estimator-id-1\" type=\"checkbox\" checked><label for=\"sk-estimator-id-1\" class=\"sk-toggleable__label fitted sk-toggleable__label-arrow fitted\">&nbsp;&nbsp;DecisionTreeClassifier<a class=\"sk-estimator-doc-link fitted\" rel=\"noreferrer\" target=\"_blank\" href=\"https://scikit-learn.org/1.5/modules/generated/sklearn.tree.DecisionTreeClassifier.html\">?<span>Documentation for DecisionTreeClassifier</span></a><span class=\"sk-estimator-doc-link fitted\">i<span>Fitted</span></span></label><div class=\"sk-toggleable__content fitted\"><pre>DecisionTreeClassifier()</pre></div> </div></div></div></div>"
      ],
      "text/plain": [
       "DecisionTreeClassifier()"
      ]
     },
     "execution_count": 88,
     "metadata": {},
     "output_type": "execute_result"
    }
   ],
   "source": [
    "dtree.fit(X_train, y_train)"
   ]
  },
  {
   "cell_type": "code",
   "execution_count": 95,
   "id": "f4b09366-0a82-4cff-a5f8-2175140129d2",
   "metadata": {},
   "outputs": [
    {
     "name": "stdout",
     "output_type": "stream",
     "text": [
      "\n",
      "(3355, 13)\n",
      "(839, 13)\n",
      "(3355,)\n",
      "(839,)\n",
      "\n"
     ]
    }
   ],
   "source": [
    "print(f\"\"\"\n",
    "{X_train.shape}\n",
    "{X_test.shape}\n",
    "{y_train.shape}\n",
    "{y_test.shape}\n",
    "\"\"\")"
   ]
  },
  {
   "cell_type": "code",
   "execution_count": 90,
   "id": "1b8119ec-f868-4dcf-a037-ecee01069f4e",
   "metadata": {},
   "outputs": [],
   "source": [
    "y_predict = dtree.predict(X_test)"
   ]
  },
  {
   "cell_type": "code",
   "execution_count": 98,
   "id": "5d371d25-4361-4030-a62f-d7a413f0f921",
   "metadata": {},
   "outputs": [],
   "source": [
    "from sklearn.metrics import confusion_matrix, accuracy_score"
   ]
  },
  {
   "cell_type": "code",
   "execution_count": 99,
   "id": "822c6392-8c85-4ead-a867-d41360921524",
   "metadata": {},
   "outputs": [
    {
     "data": {
      "text/plain": [
       "array([[309,  10],\n",
       "       [  7, 513]], dtype=int64)"
      ]
     },
     "execution_count": 99,
     "metadata": {},
     "output_type": "execute_result"
    }
   ],
   "source": [
    "confusion_matrix(y_test, y_predict)"
   ]
  },
  {
   "cell_type": "code",
   "execution_count": 100,
   "id": "4284a73c-b42a-4f23-b2d1-246e1fb503f4",
   "metadata": {},
   "outputs": [
    {
     "data": {
      "text/plain": [
       "0.9797377830750894"
      ]
     },
     "execution_count": 100,
     "metadata": {},
     "output_type": "execute_result"
    }
   ],
   "source": [
    "accuracy_score(y_test, y_predict)"
   ]
  },
  {
   "cell_type": "code",
   "execution_count": 102,
   "id": "7e7b1120-4b55-4629-90ac-d917fa749d18",
   "metadata": {},
   "outputs": [
    {
     "data": {
      "text/plain": [
       "array([0.00000000e+00, 8.43133027e-04, 0.00000000e+00, 0.00000000e+00,\n",
       "       2.74018234e-03, 2.72886708e-02, 2.93893362e-02, 5.22533500e-02,\n",
       "       8.78322081e-01, 2.05888835e-03, 0.00000000e+00, 5.56865130e-03,\n",
       "       1.53570658e-03])"
      ]
     },
     "execution_count": 102,
     "metadata": {},
     "output_type": "execute_result"
    }
   ],
   "source": [
    "importances = dtree.feature_importances_\n",
    "importances"
   ]
  },
  {
   "cell_type": "code",
   "execution_count": 107,
   "id": "3a660b9d-14fb-4760-96c8-7e565ec4390f",
   "metadata": {},
   "outputs": [],
   "source": [
    "columns = X.columns.tolist()"
   ]
  },
  {
   "cell_type": "markdown",
   "id": "735e28eb-0040-4d24-9a8d-2104c1b86997",
   "metadata": {},
   "source": [
    "The most important Features: cibil_score, "
   ]
  },
  {
   "cell_type": "code",
   "execution_count": 110,
   "id": "2728cbc1-9c16-4fba-bf5b-5eacc6ef9d6c",
   "metadata": {},
   "outputs": [
    {
     "name": "stdout",
     "output_type": "stream",
     "text": [
      "cat__ education_ Graduate: 0.0\n",
      "cat__ education_ Not Graduate: 0.0008431330270410728\n",
      "cat__ self_employed_ No: 0.0\n",
      "cat__ self_employed_ Yes: 0.0\n",
      "remainder__ no_of_dependents: 0.0027401823378834862\n",
      "remainder__ income_annum: 0.02728867083501251\n",
      "remainder__ loan_amount: 0.029389336176578205\n",
      "remainder__ loan_term: 0.0522533499924562\n",
      "remainder__ cibil_score: 0.8783220813956639\n",
      "remainder__ residential_assets_value: 0.002058888351176745\n",
      "remainder__ commercial_assets_value: 0.0\n",
      "remainder__ luxury_assets_value: 0.005568651299220176\n",
      "remainder__ bank_asset_value: 0.001535706584967668\n"
     ]
    }
   ],
   "source": [
    "for i in range(13):\n",
    "    print(f\"{columns[i]}: {importances[i]}\")"
   ]
  },
  {
   "cell_type": "markdown",
   "id": "38678e0a-5ef6-49ef-b0fe-bc4a8feeb426",
   "metadata": {},
   "source": [
    "remainder__ income_annum: 0.02728867083501251\n",
    "remainder__ loan_amount: 0.029389336176578205\n",
    "remainder__ loan_term: 0.0522533499924562\n",
    "remainder__ cibil_score: 0.8783220813956639\n",
    "remainder__ residential_assets_value: 0.002058888351176745"
   ]
  },
  {
   "cell_type": "markdown",
   "id": "4efbfb4d-161e-4f73-b389-d2b63c08bda0",
   "metadata": {},
   "source": [
    "#### The most important features:\n",
    "- cibil score\n",
    "- loan term\n",
    "- loan amount\n",
    "- income annum\n",
    "- residental assets value"
   ]
  }
 ],
 "metadata": {
  "kernelspec": {
   "display_name": "Python 3 (ipykernel)",
   "language": "python",
   "name": "python3"
  },
  "language_info": {
   "codemirror_mode": {
    "name": "ipython",
    "version": 3
   },
   "file_extension": ".py",
   "mimetype": "text/x-python",
   "name": "python",
   "nbconvert_exporter": "python",
   "pygments_lexer": "ipython3",
   "version": "3.12.7"
  }
 },
 "nbformat": 4,
 "nbformat_minor": 5
}
